{
 "cells": [
  {
   "cell_type": "code",
   "execution_count": 44,
   "metadata": {},
   "outputs": [],
   "source": [
    "import pandas as pd\n",
    "import numpy as np\n",
    "import seaborn as sns\n",
    "\n",
    "from sklearn import preprocessing\n",
    "from sklearn.linear_model import LinearRegression\n",
    "from sklearn.model_selection import train_test_split\n",
    "from sklearn.metrics import r2_score, mean_squared_error\n",
    "from sklearn.linear_model import LogisticRegression\n",
    "\n",
    "import plotly.express as px\n",
    "import plotly.graph_objects as go\n",
    "from plotly.subplots import make_subplots\n",
    "import matplotlib.pyplot as plt\n"
   ]
  },
  {
   "cell_type": "markdown",
   "metadata": {},
   "source": [
    "Bringing in the key datasets provided for our analysis"
   ]
  },
  {
   "cell_type": "code",
   "execution_count": 2,
   "metadata": {},
   "outputs": [],
   "source": [
    "df_cal = pd.read_csv(r'C:\\Users\\AMELATTI\\Documents\\GitHub\\project1_seattle_airbnb\\data\\calendar.csv')\n",
    "df_list = pd.read_csv(r'C:\\Users\\AMELATTI\\Documents\\GitHub\\project1_seattle_airbnb\\data\\listings.csv')\n",
    "df_rev = pd.read_csv(r'C:\\Users\\AMELATTI\\Documents\\GitHub\\project1_seattle_airbnb\\data\\reviews.csv')"
   ]
  },
  {
   "cell_type": "code",
   "execution_count": 3,
   "metadata": {},
   "outputs": [
    {
     "name": "stdout",
     "output_type": "stream",
     "text": [
      "(1393570, 4)\n",
      "(3818, 92)\n",
      "(84849, 6)\n"
     ]
    }
   ],
   "source": [
    "print(df_cal.shape)\n",
    "print(df_list.shape)\n",
    "print(df_rev.shape)\n"
   ]
  },
  {
   "cell_type": "markdown",
   "metadata": {},
   "source": [
    "Question 1) Which zip codes in the Seattle area are associated with higher apartment rent prices?\n",
    "We will address this by:\n",
    "1) Extracting properties with the apartment designation\n",
    "2) Selecting a subset of apartments with a ~~size of 600-800 sq.ft~~  \n",
    "    a) Only ~3% of all properties had square feet populated, so opted for metrics using # of bed and bath (1 and 1 for apts)  \n",
    "    b) This prevents outlier apartments from potentially influencing prices (a mega apartment with 4 bed 4 bath as an example)\n",
    "3) Cleaning data by removing listings that are missing size or bed/bath information\n",
    "4) Plotting the median apartment prices vs. zip code and taking the top 5 zip codes with highest median apartment price."
   ]
  },
  {
   "cell_type": "code",
   "execution_count": 4,
   "metadata": {},
   "outputs": [
    {
     "name": "stdout",
     "output_type": "stream",
     "text": [
      "# of total properties = 3818\n",
      "# of total apartments = 1708\n",
      "# of total apartments with 1 bed and 1 bath = 1063\n",
      "# of valid data rows with no NaNs for id/price/zip = 1063\n"
     ]
    },
    {
     "name": "stderr",
     "output_type": "stream",
     "text": [
      "C:\\Users\\AMELATTI\\AppData\\Local\\Temp\\ipykernel_21064\\2663677517.py:14: FutureWarning: The default value of regex will change from True to False in a future version. In addition, single character regular expressions will *not* be treated as literal strings when regex=True.\n",
      "  df_apt_final['price'] = df_apt_final['price'].str.replace('$','').astype(float)\n"
     ]
    }
   ],
   "source": [
    "print('# of total properties = {}'.format(df_list.shape[0]))\n",
    "\n",
    "# df_apt = df_list[['id','price','bedrooms','bathrooms','zipcode']][df_list['property_type'] == 'Apartment']\n",
    "df_apt = df_list[df_list['property_type'] == 'Apartment']\n",
    "print('# of total apartments = {}'.format(df_apt.shape[0]))\n",
    "\n",
    "df_apt_sized = df_apt[(df_apt['bedrooms'] == 1) & (df_apt['bathrooms'] == 1)]\n",
    "print('# of total apartments with 1 bed and 1 bath = {}'.format(df_apt_sized.shape[0]))\n",
    "\n",
    "df_apt_final = df_apt_sized.dropna(subset=['id','price','zipcode'], axis=0)\n",
    "print('# of valid data rows with no NaNs for id/price/zip = {}'.format(df_apt_final.shape[0]))\n",
    "\n",
    "# Converting price, which is a string, to a float value that we can obtain the median of. Had to remove the $ sign to allow .astype to work!\n",
    "df_apt_final['price'] = df_apt_final['price'].str.replace('$','').astype(float)\n",
    "\n",
    "df_apt_final_zip = df_apt_final.groupby(by=['zipcode']).agg(\n",
    "        median_price = ('price', 'median'),\n",
    "        apt_count = ('id', 'count')\n",
    "\n",
    ").reset_index()\n",
    "\n",
    "df_apt_final_zip = df_apt_final_zip.sort_values('median_price')\n",
    "# df_apt_final_zip.head()"
   ]
  },
  {
   "cell_type": "markdown",
   "metadata": {},
   "source": [
    "Plotting the information we will use to answer question 1!"
   ]
  },
  {
   "cell_type": "code",
   "execution_count": 5,
   "metadata": {},
   "outputs": [
    {
     "name": "stdout",
     "output_type": "stream",
     "text": [
      "Start with 1063 apartments over 26 zip codes\n",
      "After removing zip codes with < 5 apartments, we will only plot 1054 apartments over 21 zip codes\n"
     ]
    },
    {
     "data": {
      "application/vnd.plotly.v1+json": {
       "config": {
        "plotlyServerURL": "https://plot.ly"
       },
       "data": [
        {
         "name": "Total Counts of Apartments Per Zip Code",
         "type": "bar",
         "x": [
          "98106",
          "98125",
          "98118",
          "98144",
          "98133",
          "98116",
          "98115",
          "98105",
          "98103",
          "98122",
          "98117",
          "98107",
          "98112",
          "98102",
          "98126",
          "98109",
          "98119",
          "98199",
          "98104",
          "98121",
          "98101"
         ],
         "y": [
          7,
          16,
          20,
          36,
          5,
          18,
          27,
          63,
          93,
          125,
          17,
          45,
          46,
          138,
          8,
          106,
          36,
          11,
          61,
          80,
          96
         ],
         "yaxis": "y"
        },
        {
         "legendrank": 2,
         "mode": "lines+markers+text",
         "name": "Median Price of Apartments Per Zip Code",
         "text": [
          65,
          72.5,
          75,
          77,
          78,
          82,
          84,
          90,
          95,
          99,
          99,
          100,
          102.5,
          103.5,
          105,
          109,
          118.5,
          125,
          129,
          130,
          149
         ],
         "textposition": "top right",
         "texttemplate": "%{y:$.0f}",
         "type": "scatter",
         "x": [
          "98106",
          "98125",
          "98118",
          "98144",
          "98133",
          "98116",
          "98115",
          "98105",
          "98103",
          "98122",
          "98117",
          "98107",
          "98112",
          "98102",
          "98126",
          "98109",
          "98119",
          "98199",
          "98104",
          "98121",
          "98101"
         ],
         "y": [
          65,
          72.5,
          75,
          77,
          78,
          82,
          84,
          90,
          95,
          99,
          99,
          100,
          102.5,
          103.5,
          105,
          109,
          118.5,
          125,
          129,
          130,
          149
         ],
         "yaxis": "y2"
        }
       ],
       "layout": {
        "legend": {
         "x": 0.01,
         "xanchor": "left",
         "y": 0.99,
         "yanchor": "top"
        },
        "template": {
         "data": {
          "bar": [
           {
            "error_x": {
             "color": "#2a3f5f"
            },
            "error_y": {
             "color": "#2a3f5f"
            },
            "marker": {
             "line": {
              "color": "#E5ECF6",
              "width": 0.5
             },
             "pattern": {
              "fillmode": "overlay",
              "size": 10,
              "solidity": 0.2
             }
            },
            "type": "bar"
           }
          ],
          "barpolar": [
           {
            "marker": {
             "line": {
              "color": "#E5ECF6",
              "width": 0.5
             },
             "pattern": {
              "fillmode": "overlay",
              "size": 10,
              "solidity": 0.2
             }
            },
            "type": "barpolar"
           }
          ],
          "carpet": [
           {
            "aaxis": {
             "endlinecolor": "#2a3f5f",
             "gridcolor": "white",
             "linecolor": "white",
             "minorgridcolor": "white",
             "startlinecolor": "#2a3f5f"
            },
            "baxis": {
             "endlinecolor": "#2a3f5f",
             "gridcolor": "white",
             "linecolor": "white",
             "minorgridcolor": "white",
             "startlinecolor": "#2a3f5f"
            },
            "type": "carpet"
           }
          ],
          "choropleth": [
           {
            "colorbar": {
             "outlinewidth": 0,
             "ticks": ""
            },
            "type": "choropleth"
           }
          ],
          "contour": [
           {
            "colorbar": {
             "outlinewidth": 0,
             "ticks": ""
            },
            "colorscale": [
             [
              0,
              "#0d0887"
             ],
             [
              0.1111111111111111,
              "#46039f"
             ],
             [
              0.2222222222222222,
              "#7201a8"
             ],
             [
              0.3333333333333333,
              "#9c179e"
             ],
             [
              0.4444444444444444,
              "#bd3786"
             ],
             [
              0.5555555555555556,
              "#d8576b"
             ],
             [
              0.6666666666666666,
              "#ed7953"
             ],
             [
              0.7777777777777778,
              "#fb9f3a"
             ],
             [
              0.8888888888888888,
              "#fdca26"
             ],
             [
              1,
              "#f0f921"
             ]
            ],
            "type": "contour"
           }
          ],
          "contourcarpet": [
           {
            "colorbar": {
             "outlinewidth": 0,
             "ticks": ""
            },
            "type": "contourcarpet"
           }
          ],
          "heatmap": [
           {
            "colorbar": {
             "outlinewidth": 0,
             "ticks": ""
            },
            "colorscale": [
             [
              0,
              "#0d0887"
             ],
             [
              0.1111111111111111,
              "#46039f"
             ],
             [
              0.2222222222222222,
              "#7201a8"
             ],
             [
              0.3333333333333333,
              "#9c179e"
             ],
             [
              0.4444444444444444,
              "#bd3786"
             ],
             [
              0.5555555555555556,
              "#d8576b"
             ],
             [
              0.6666666666666666,
              "#ed7953"
             ],
             [
              0.7777777777777778,
              "#fb9f3a"
             ],
             [
              0.8888888888888888,
              "#fdca26"
             ],
             [
              1,
              "#f0f921"
             ]
            ],
            "type": "heatmap"
           }
          ],
          "heatmapgl": [
           {
            "colorbar": {
             "outlinewidth": 0,
             "ticks": ""
            },
            "colorscale": [
             [
              0,
              "#0d0887"
             ],
             [
              0.1111111111111111,
              "#46039f"
             ],
             [
              0.2222222222222222,
              "#7201a8"
             ],
             [
              0.3333333333333333,
              "#9c179e"
             ],
             [
              0.4444444444444444,
              "#bd3786"
             ],
             [
              0.5555555555555556,
              "#d8576b"
             ],
             [
              0.6666666666666666,
              "#ed7953"
             ],
             [
              0.7777777777777778,
              "#fb9f3a"
             ],
             [
              0.8888888888888888,
              "#fdca26"
             ],
             [
              1,
              "#f0f921"
             ]
            ],
            "type": "heatmapgl"
           }
          ],
          "histogram": [
           {
            "marker": {
             "pattern": {
              "fillmode": "overlay",
              "size": 10,
              "solidity": 0.2
             }
            },
            "type": "histogram"
           }
          ],
          "histogram2d": [
           {
            "colorbar": {
             "outlinewidth": 0,
             "ticks": ""
            },
            "colorscale": [
             [
              0,
              "#0d0887"
             ],
             [
              0.1111111111111111,
              "#46039f"
             ],
             [
              0.2222222222222222,
              "#7201a8"
             ],
             [
              0.3333333333333333,
              "#9c179e"
             ],
             [
              0.4444444444444444,
              "#bd3786"
             ],
             [
              0.5555555555555556,
              "#d8576b"
             ],
             [
              0.6666666666666666,
              "#ed7953"
             ],
             [
              0.7777777777777778,
              "#fb9f3a"
             ],
             [
              0.8888888888888888,
              "#fdca26"
             ],
             [
              1,
              "#f0f921"
             ]
            ],
            "type": "histogram2d"
           }
          ],
          "histogram2dcontour": [
           {
            "colorbar": {
             "outlinewidth": 0,
             "ticks": ""
            },
            "colorscale": [
             [
              0,
              "#0d0887"
             ],
             [
              0.1111111111111111,
              "#46039f"
             ],
             [
              0.2222222222222222,
              "#7201a8"
             ],
             [
              0.3333333333333333,
              "#9c179e"
             ],
             [
              0.4444444444444444,
              "#bd3786"
             ],
             [
              0.5555555555555556,
              "#d8576b"
             ],
             [
              0.6666666666666666,
              "#ed7953"
             ],
             [
              0.7777777777777778,
              "#fb9f3a"
             ],
             [
              0.8888888888888888,
              "#fdca26"
             ],
             [
              1,
              "#f0f921"
             ]
            ],
            "type": "histogram2dcontour"
           }
          ],
          "mesh3d": [
           {
            "colorbar": {
             "outlinewidth": 0,
             "ticks": ""
            },
            "type": "mesh3d"
           }
          ],
          "parcoords": [
           {
            "line": {
             "colorbar": {
              "outlinewidth": 0,
              "ticks": ""
             }
            },
            "type": "parcoords"
           }
          ],
          "pie": [
           {
            "automargin": true,
            "type": "pie"
           }
          ],
          "scatter": [
           {
            "fillpattern": {
             "fillmode": "overlay",
             "size": 10,
             "solidity": 0.2
            },
            "type": "scatter"
           }
          ],
          "scatter3d": [
           {
            "line": {
             "colorbar": {
              "outlinewidth": 0,
              "ticks": ""
             }
            },
            "marker": {
             "colorbar": {
              "outlinewidth": 0,
              "ticks": ""
             }
            },
            "type": "scatter3d"
           }
          ],
          "scattercarpet": [
           {
            "marker": {
             "colorbar": {
              "outlinewidth": 0,
              "ticks": ""
             }
            },
            "type": "scattercarpet"
           }
          ],
          "scattergeo": [
           {
            "marker": {
             "colorbar": {
              "outlinewidth": 0,
              "ticks": ""
             }
            },
            "type": "scattergeo"
           }
          ],
          "scattergl": [
           {
            "marker": {
             "colorbar": {
              "outlinewidth": 0,
              "ticks": ""
             }
            },
            "type": "scattergl"
           }
          ],
          "scattermapbox": [
           {
            "marker": {
             "colorbar": {
              "outlinewidth": 0,
              "ticks": ""
             }
            },
            "type": "scattermapbox"
           }
          ],
          "scatterpolar": [
           {
            "marker": {
             "colorbar": {
              "outlinewidth": 0,
              "ticks": ""
             }
            },
            "type": "scatterpolar"
           }
          ],
          "scatterpolargl": [
           {
            "marker": {
             "colorbar": {
              "outlinewidth": 0,
              "ticks": ""
             }
            },
            "type": "scatterpolargl"
           }
          ],
          "scatterternary": [
           {
            "marker": {
             "colorbar": {
              "outlinewidth": 0,
              "ticks": ""
             }
            },
            "type": "scatterternary"
           }
          ],
          "surface": [
           {
            "colorbar": {
             "outlinewidth": 0,
             "ticks": ""
            },
            "colorscale": [
             [
              0,
              "#0d0887"
             ],
             [
              0.1111111111111111,
              "#46039f"
             ],
             [
              0.2222222222222222,
              "#7201a8"
             ],
             [
              0.3333333333333333,
              "#9c179e"
             ],
             [
              0.4444444444444444,
              "#bd3786"
             ],
             [
              0.5555555555555556,
              "#d8576b"
             ],
             [
              0.6666666666666666,
              "#ed7953"
             ],
             [
              0.7777777777777778,
              "#fb9f3a"
             ],
             [
              0.8888888888888888,
              "#fdca26"
             ],
             [
              1,
              "#f0f921"
             ]
            ],
            "type": "surface"
           }
          ],
          "table": [
           {
            "cells": {
             "fill": {
              "color": "#EBF0F8"
             },
             "line": {
              "color": "white"
             }
            },
            "header": {
             "fill": {
              "color": "#C8D4E3"
             },
             "line": {
              "color": "white"
             }
            },
            "type": "table"
           }
          ]
         },
         "layout": {
          "annotationdefaults": {
           "arrowcolor": "#2a3f5f",
           "arrowhead": 0,
           "arrowwidth": 1
          },
          "autotypenumbers": "strict",
          "coloraxis": {
           "colorbar": {
            "outlinewidth": 0,
            "ticks": ""
           }
          },
          "colorscale": {
           "diverging": [
            [
             0,
             "#8e0152"
            ],
            [
             0.1,
             "#c51b7d"
            ],
            [
             0.2,
             "#de77ae"
            ],
            [
             0.3,
             "#f1b6da"
            ],
            [
             0.4,
             "#fde0ef"
            ],
            [
             0.5,
             "#f7f7f7"
            ],
            [
             0.6,
             "#e6f5d0"
            ],
            [
             0.7,
             "#b8e186"
            ],
            [
             0.8,
             "#7fbc41"
            ],
            [
             0.9,
             "#4d9221"
            ],
            [
             1,
             "#276419"
            ]
           ],
           "sequential": [
            [
             0,
             "#0d0887"
            ],
            [
             0.1111111111111111,
             "#46039f"
            ],
            [
             0.2222222222222222,
             "#7201a8"
            ],
            [
             0.3333333333333333,
             "#9c179e"
            ],
            [
             0.4444444444444444,
             "#bd3786"
            ],
            [
             0.5555555555555556,
             "#d8576b"
            ],
            [
             0.6666666666666666,
             "#ed7953"
            ],
            [
             0.7777777777777778,
             "#fb9f3a"
            ],
            [
             0.8888888888888888,
             "#fdca26"
            ],
            [
             1,
             "#f0f921"
            ]
           ],
           "sequentialminus": [
            [
             0,
             "#0d0887"
            ],
            [
             0.1111111111111111,
             "#46039f"
            ],
            [
             0.2222222222222222,
             "#7201a8"
            ],
            [
             0.3333333333333333,
             "#9c179e"
            ],
            [
             0.4444444444444444,
             "#bd3786"
            ],
            [
             0.5555555555555556,
             "#d8576b"
            ],
            [
             0.6666666666666666,
             "#ed7953"
            ],
            [
             0.7777777777777778,
             "#fb9f3a"
            ],
            [
             0.8888888888888888,
             "#fdca26"
            ],
            [
             1,
             "#f0f921"
            ]
           ]
          },
          "colorway": [
           "#636efa",
           "#EF553B",
           "#00cc96",
           "#ab63fa",
           "#FFA15A",
           "#19d3f3",
           "#FF6692",
           "#B6E880",
           "#FF97FF",
           "#FECB52"
          ],
          "font": {
           "color": "#2a3f5f"
          },
          "geo": {
           "bgcolor": "white",
           "lakecolor": "white",
           "landcolor": "#E5ECF6",
           "showlakes": true,
           "showland": true,
           "subunitcolor": "white"
          },
          "hoverlabel": {
           "align": "left"
          },
          "hovermode": "closest",
          "mapbox": {
           "style": "light"
          },
          "paper_bgcolor": "white",
          "plot_bgcolor": "#E5ECF6",
          "polar": {
           "angularaxis": {
            "gridcolor": "white",
            "linecolor": "white",
            "ticks": ""
           },
           "bgcolor": "#E5ECF6",
           "radialaxis": {
            "gridcolor": "white",
            "linecolor": "white",
            "ticks": ""
           }
          },
          "scene": {
           "xaxis": {
            "backgroundcolor": "#E5ECF6",
            "gridcolor": "white",
            "gridwidth": 2,
            "linecolor": "white",
            "showbackground": true,
            "ticks": "",
            "zerolinecolor": "white"
           },
           "yaxis": {
            "backgroundcolor": "#E5ECF6",
            "gridcolor": "white",
            "gridwidth": 2,
            "linecolor": "white",
            "showbackground": true,
            "ticks": "",
            "zerolinecolor": "white"
           },
           "zaxis": {
            "backgroundcolor": "#E5ECF6",
            "gridcolor": "white",
            "gridwidth": 2,
            "linecolor": "white",
            "showbackground": true,
            "ticks": "",
            "zerolinecolor": "white"
           }
          },
          "shapedefaults": {
           "line": {
            "color": "#2a3f5f"
           }
          },
          "ternary": {
           "aaxis": {
            "gridcolor": "white",
            "linecolor": "white",
            "ticks": ""
           },
           "baxis": {
            "gridcolor": "white",
            "linecolor": "white",
            "ticks": ""
           },
           "bgcolor": "#E5ECF6",
           "caxis": {
            "gridcolor": "white",
            "linecolor": "white",
            "ticks": ""
           }
          },
          "title": {
           "x": 0.05
          },
          "xaxis": {
           "automargin": true,
           "gridcolor": "white",
           "linecolor": "white",
           "ticks": "",
           "title": {
            "standoff": 15
           },
           "zerolinecolor": "white",
           "zerolinewidth": 2
          },
          "yaxis": {
           "automargin": true,
           "gridcolor": "white",
           "linecolor": "white",
           "ticks": "",
           "title": {
            "standoff": 15
           },
           "zerolinecolor": "white",
           "zerolinewidth": 2
          }
         }
        },
        "title": {
         "text": "Median Prices of 1Bd/1Ba Seattle Airbnb Apartments by Zip Code with Counts of Apartments for Comparison <br>Data Includes 1,054 1 Bd/1Ba Apartments Posted for 21 Zipcodes on Seattle Airbnb <br>Data Timeframe between 2016-01-04 and 2017-01-02"
        },
        "xaxis": {
         "anchor": "y",
         "domain": [
          0,
          0.94
         ],
         "title": {
          "text": "Zipcode"
         }
        },
        "yaxis": {
         "anchor": "x",
         "domain": [
          0,
          1
         ],
         "title": {
          "text": "Count of Apartments"
         }
        },
        "yaxis2": {
         "anchor": "x",
         "overlaying": "y",
         "side": "right",
         "tickprefix": "$",
         "title": {
          "text": "Median Price of Apartments"
         }
        }
       }
      }
     },
     "metadata": {},
     "output_type": "display_data"
    }
   ],
   "source": [
    "# In order to avoid skewing median price if only a few apartments are in a zip code, I chose to remove zip code data points that had less than 5 apartments listed.\n",
    "print('Start with {} apartments over {} zip codes'.format(df_apt_final_zip['apt_count'].sum(), df_apt_final_zip['zipcode'].count(),))\n",
    "df_apt_final_zip = df_apt_final_zip[df_apt_final_zip['apt_count'] >= 5]\n",
    "print('After removing zip codes with < 5 apartments, we will only plot {} apartments over {} zip codes'.format(df_apt_final_zip['apt_count'].sum(), df_apt_final_zip['zipcode'].count(),))\n",
    "\n",
    "# Plot of median prices for 1 bed 1 bath apartments by zipcode, along with counts of apartments included\n",
    "fig_counts = make_subplots(specs=[[{\"secondary_y\": True}]])\n",
    "\n",
    "fig_counts.add_trace(\n",
    "        go.Bar(name='Total Counts of Apartments Per Zip Code', x=df_apt_final_zip['zipcode'], y=df_apt_final_zip['apt_count'],\n",
    "        yaxis='y',\n",
    "        )),\n",
    "fig_counts.add_trace(\n",
    "        go.Scatter(name='Median Price of Apartments Per Zip Code', x=df_apt_final_zip['zipcode'], y=df_apt_final_zip['median_price'],\n",
    "        yaxis='y2',\n",
    "        mode='lines+markers+text', legendrank=2, text=df_apt_final_zip['median_price'], \n",
    "        textposition= \"top right\",\n",
    "        texttemplate = \"%{y:$.0f}\"\n",
    "        ))\n",
    "\n",
    "fig_counts.update_layout(\n",
    "                    title = (\"Median Prices of 1Bd/1Ba Seattle Airbnb Apartments by Zip Code with Counts of Apartments for Comparison <br>Data Includes {:,} 1 Bd/1Ba Apartments Posted for {} Zipcodes on Seattle Airbnb <br>Data Timeframe between {} and {}\".format(\n",
    "                        df_apt_final_zip['apt_count'].sum(),\n",
    "                        df_apt_final_zip['zipcode'].count(),\n",
    "                        min(df_cal['date']),\n",
    "                        max(df_cal['date'])\n",
    "                        )\n",
    "                        ),\n",
    "                    xaxis_title=\"Zipcode\",\n",
    "                    yaxis_title=\"Count of Apartments\",\n",
    "                    yaxis2_title=\"Median Price of Apartments\",\n",
    "                    legend=dict(\n",
    "                        yanchor=\"top\",\n",
    "                        y=0.99,\n",
    "                        xanchor=\"left\",\n",
    "                        x=0.01\n",
    "                        )\n",
    "                    )\n",
    "fig_counts.update_layout(yaxis2_tickprefix = '$')\n",
    "fig_counts.show()"
   ]
  },
  {
   "cell_type": "markdown",
   "metadata": {},
   "source": [
    "Question 1 Takeaways for Investor: Top 5 Zip Codes for 1bd/1ba apartment rent by median price"
   ]
  },
  {
   "cell_type": "code",
   "execution_count": 6,
   "metadata": {},
   "outputs": [
    {
     "name": "stdout",
     "output_type": "stream",
     "text": [
      "['98101', '98121', '98104', '98199', '98119']\n"
     ]
    }
   ],
   "source": [
    "# Get a dataframe of the 5 most expensive zip codes (as they've already been sorted in the previous df, we can use .tail)\n",
    "df_top_5 = df_apt_final_zip[['zipcode','median_price','apt_count']].tail(5).sort_values('median_price',ascending=False)\n",
    "\n",
    "print(df_top_5['zipcode'].to_list())\n",
    "list_top_5 = df_top_5['zipcode'].to_list()"
   ]
  },
  {
   "cell_type": "markdown",
   "metadata": {},
   "source": [
    "Question 2) Does \"super host\" status influence allow an owner to charge more for their apartment, and should the investor try and become one?  \n",
    "1) Reuse df_apt_final and the top five zip codes in price from Question 1 because they contain our desired subset of apartments for the investor.\n",
    "2) Ensure that we group by zipcodes again, as it wouldn't be fair to compare prices of superhosts from a cheaper zipcode to another more expensive zipcode.\n",
    "3) Plot out median prices in each zip code with a designation of host is super host or not."
   ]
  },
  {
   "cell_type": "code",
   "execution_count": 7,
   "metadata": {},
   "outputs": [
    {
     "data": {
      "text/html": [
       "<div>\n",
       "<style scoped>\n",
       "    .dataframe tbody tr th:only-of-type {\n",
       "        vertical-align: middle;\n",
       "    }\n",
       "\n",
       "    .dataframe tbody tr th {\n",
       "        vertical-align: top;\n",
       "    }\n",
       "\n",
       "    .dataframe thead th {\n",
       "        text-align: right;\n",
       "    }\n",
       "</style>\n",
       "<table border=\"1\" class=\"dataframe\">\n",
       "  <thead>\n",
       "    <tr style=\"text-align: right;\">\n",
       "      <th></th>\n",
       "      <th>id</th>\n",
       "      <th>zipcode</th>\n",
       "      <th>price</th>\n",
       "      <th>host_is_superhost</th>\n",
       "      <th>host_id</th>\n",
       "      <th>color_ind</th>\n",
       "    </tr>\n",
       "  </thead>\n",
       "  <tbody>\n",
       "    <tr>\n",
       "      <th>0</th>\n",
       "      <td>241032</td>\n",
       "      <td>98119</td>\n",
       "      <td>85.0</td>\n",
       "      <td>f</td>\n",
       "      <td>956883</td>\n",
       "      <td>gray</td>\n",
       "    </tr>\n",
       "    <tr>\n",
       "      <th>1</th>\n",
       "      <td>953595</td>\n",
       "      <td>98119</td>\n",
       "      <td>150.0</td>\n",
       "      <td>t</td>\n",
       "      <td>5177328</td>\n",
       "      <td>red</td>\n",
       "    </tr>\n",
       "    <tr>\n",
       "      <th>9</th>\n",
       "      <td>2493658</td>\n",
       "      <td>98119</td>\n",
       "      <td>150.0</td>\n",
       "      <td>t</td>\n",
       "      <td>5177328</td>\n",
       "      <td>red</td>\n",
       "    </tr>\n",
       "    <tr>\n",
       "      <th>16</th>\n",
       "      <td>3245876</td>\n",
       "      <td>98119</td>\n",
       "      <td>66.0</td>\n",
       "      <td>f</td>\n",
       "      <td>9465817</td>\n",
       "      <td>gray</td>\n",
       "    </tr>\n",
       "    <tr>\n",
       "      <th>29</th>\n",
       "      <td>4520099</td>\n",
       "      <td>98119</td>\n",
       "      <td>80.0</td>\n",
       "      <td>f</td>\n",
       "      <td>6184895</td>\n",
       "      <td>gray</td>\n",
       "    </tr>\n",
       "  </tbody>\n",
       "</table>\n",
       "</div>"
      ],
      "text/plain": [
       "         id zipcode  price host_is_superhost  host_id color_ind\n",
       "0    241032   98119   85.0                 f   956883      gray\n",
       "1    953595   98119  150.0                 t  5177328       red\n",
       "9   2493658   98119  150.0                 t  5177328       red\n",
       "16  3245876   98119   66.0                 f  9465817      gray\n",
       "29  4520099   98119   80.0                 f  6184895      gray"
      ]
     },
     "execution_count": 7,
     "metadata": {},
     "output_type": "execute_result"
    }
   ],
   "source": [
    "# Reuse original filtered apt dataframe but only a select few columns\n",
    "df_apt_final_host = df_apt_final[['id','zipcode','price','host_is_superhost','host_id']]\n",
    "\n",
    "# Using list_top_5 of the 5 most expensive zipcodes to filter to those 5 in our df\n",
    "df_apt_final_host = df_apt_final_host[df_apt_final_host['zipcode'].isin(list_top_5)]\n",
    "\n",
    "# Setting up a column for host differentiation for individual colors in the plots\n",
    "df_apt_final_host['color_ind'] = np.where(df_apt_final_host['host_is_superhost'] == 't','red','gray')\n",
    "\n",
    "df_apt_final_host.head()"
   ]
  },
  {
   "cell_type": "code",
   "execution_count": 8,
   "metadata": {},
   "outputs": [
    {
     "data": {
      "text/html": [
       "<div>\n",
       "<style scoped>\n",
       "    .dataframe tbody tr th:only-of-type {\n",
       "        vertical-align: middle;\n",
       "    }\n",
       "\n",
       "    .dataframe tbody tr th {\n",
       "        vertical-align: top;\n",
       "    }\n",
       "\n",
       "    .dataframe thead th {\n",
       "        text-align: right;\n",
       "    }\n",
       "</style>\n",
       "<table border=\"1\" class=\"dataframe\">\n",
       "  <thead>\n",
       "    <tr style=\"text-align: right;\">\n",
       "      <th></th>\n",
       "      <th>zipcode</th>\n",
       "      <th>host_is_superhost</th>\n",
       "      <th>median_price_host</th>\n",
       "      <th>color_ind</th>\n",
       "    </tr>\n",
       "  </thead>\n",
       "  <tbody>\n",
       "    <tr>\n",
       "      <th>0</th>\n",
       "      <td>98101</td>\n",
       "      <td>f</td>\n",
       "      <td>140.0</td>\n",
       "      <td>gray</td>\n",
       "    </tr>\n",
       "    <tr>\n",
       "      <th>1</th>\n",
       "      <td>98101</td>\n",
       "      <td>t</td>\n",
       "      <td>150.0</td>\n",
       "      <td>red</td>\n",
       "    </tr>\n",
       "    <tr>\n",
       "      <th>2</th>\n",
       "      <td>98104</td>\n",
       "      <td>f</td>\n",
       "      <td>128.0</td>\n",
       "      <td>gray</td>\n",
       "    </tr>\n",
       "    <tr>\n",
       "      <th>3</th>\n",
       "      <td>98104</td>\n",
       "      <td>t</td>\n",
       "      <td>132.0</td>\n",
       "      <td>red</td>\n",
       "    </tr>\n",
       "    <tr>\n",
       "      <th>4</th>\n",
       "      <td>98119</td>\n",
       "      <td>f</td>\n",
       "      <td>112.0</td>\n",
       "      <td>gray</td>\n",
       "    </tr>\n",
       "  </tbody>\n",
       "</table>\n",
       "</div>"
      ],
      "text/plain": [
       "  zipcode host_is_superhost  median_price_host color_ind\n",
       "0   98101                 f              140.0      gray\n",
       "1   98101                 t              150.0       red\n",
       "2   98104                 f              128.0      gray\n",
       "3   98104                 t              132.0       red\n",
       "4   98119                 f              112.0      gray"
      ]
     },
     "execution_count": 8,
     "metadata": {},
     "output_type": "execute_result"
    }
   ],
   "source": [
    "# Get Median Values to include on plot to present clearer view!\n",
    "\n",
    "df_apt_final_host_grouped = df_apt_final_host.groupby(by=['zipcode','host_is_superhost']).agg(\n",
    "        median_price_host = ('price','median'),\n",
    "        color_ind = ('color_ind','last')\n",
    "\n",
    ").reset_index()\n",
    "\n",
    "df_apt_final_host_grouped.head()"
   ]
  },
  {
   "cell_type": "code",
   "execution_count": 9,
   "metadata": {},
   "outputs": [
    {
     "data": {
      "application/vnd.plotly.v1+json": {
       "config": {
        "plotlyServerURL": "https://plot.ly"
       },
       "data": [
        {
         "marker": {
          "color": [
           "gray",
           "red",
           "red",
           "gray",
           "gray",
           "red",
           "gray",
           "gray",
           "gray",
           "gray",
           "gray",
           "gray",
           "gray",
           "gray",
           "gray",
           "gray",
           "red",
           "gray",
           "gray",
           "gray",
           "gray",
           "red",
           "red",
           "gray",
           "gray",
           "gray",
           "gray",
           "gray",
           "gray",
           "gray",
           "gray",
           "gray",
           "gray",
           "gray",
           "gray",
           "red",
           "gray",
           "gray",
           "gray",
           "gray",
           "gray",
           "gray",
           "gray",
           "gray",
           "gray",
           "gray",
           "gray",
           "gray",
           "red",
           "red",
           "gray",
           "gray",
           "gray",
           "red",
           "gray",
           "gray",
           "gray",
           "gray",
           "red",
           "red",
           "red",
           "gray",
           "gray",
           "gray",
           "gray",
           "gray",
           "gray",
           "gray",
           "gray",
           "gray",
           "gray",
           "gray",
           "gray",
           "gray",
           "gray",
           "gray",
           "gray",
           "gray",
           "red",
           "gray",
           "gray",
           "gray",
           "red",
           "gray",
           "gray",
           "gray",
           "red",
           "gray",
           "gray",
           "gray",
           "red",
           "gray",
           "red",
           "gray",
           "gray",
           "gray",
           "gray",
           "gray",
           "red",
           "red",
           "gray",
           "gray",
           "gray",
           "red",
           "gray",
           "gray",
           "gray",
           "gray",
           "red",
           "gray",
           "gray",
           "gray",
           "red",
           "gray",
           "gray",
           "gray",
           "gray",
           "gray",
           "gray",
           "red",
           "gray",
           "gray",
           "gray",
           "gray",
           "red",
           "gray",
           "red",
           "gray",
           "gray",
           "gray",
           "gray",
           "gray",
           "gray",
           "gray",
           "gray",
           "gray",
           "gray",
           "gray",
           "gray",
           "red",
           "gray",
           "gray",
           "red",
           "gray",
           "gray",
           "red",
           "red",
           "gray",
           "gray",
           "red",
           "gray",
           "red",
           "gray",
           "gray",
           "gray",
           "red",
           "gray",
           "gray",
           "gray",
           "gray",
           "gray",
           "gray",
           "gray",
           "gray",
           "gray",
           "red",
           "gray",
           "gray",
           "gray",
           "red",
           "gray",
           "gray",
           "gray",
           "gray",
           "red",
           "gray",
           "red",
           "gray",
           "gray",
           "gray",
           "gray",
           "gray",
           "gray",
           "gray",
           "red",
           "red",
           "gray",
           "red",
           "gray",
           "gray",
           "gray",
           "gray",
           "gray",
           "gray",
           "gray",
           "red",
           "gray",
           "red",
           "gray",
           "red",
           "red",
           "gray",
           "gray",
           "gray",
           "gray",
           "gray",
           "gray",
           "gray",
           "gray",
           "red",
           "gray",
           "red",
           "gray",
           "red",
           "gray",
           "gray",
           "gray",
           "gray",
           "red",
           "red",
           "gray",
           "red",
           "gray",
           "gray",
           "red",
           "red",
           "gray",
           "gray",
           "red",
           "gray",
           "gray",
           "gray",
           "gray",
           "red",
           "gray",
           "red",
           "red",
           "red",
           "red",
           "gray",
           "gray",
           "red",
           "gray",
           "gray",
           "gray",
           "gray",
           "gray",
           "red",
           "gray",
           "gray",
           "gray",
           "gray",
           "gray",
           "gray",
           "red",
           "red",
           "gray",
           "gray",
           "gray",
           "gray",
           "gray",
           "red",
           "gray",
           "gray",
           "gray",
           "gray",
           "gray",
           "gray",
           "gray",
           "red",
           "gray",
           "gray",
           "gray",
           "gray",
           "gray",
           "red",
           "gray",
           "gray",
           "gray",
           "gray",
           "gray",
           "gray",
           "red",
           "red"
          ]
         },
         "mode": "markers",
         "name": "Daily Rent Price of Apartments Per Zip Code by Super Host Status",
         "type": "scatter",
         "x": [
          "98119",
          "98119",
          "98119",
          "98119",
          "98119",
          "98119",
          "98119",
          "98119",
          "98119",
          "98119",
          "98119",
          "98119",
          "98119",
          "98119",
          "98119",
          "98119",
          "98119",
          "98119",
          "98119",
          "98101",
          "98121",
          "98101",
          "98101",
          "98101",
          "98101",
          "98101",
          "98101",
          "98101",
          "98101",
          "98199",
          "98199",
          "98199",
          "98199",
          "98199",
          "98199",
          "98101",
          "98101",
          "98121",
          "98121",
          "98121",
          "98121",
          "98121",
          "98121",
          "98121",
          "98101",
          "98121",
          "98121",
          "98121",
          "98121",
          "98121",
          "98121",
          "98121",
          "98121",
          "98121",
          "98101",
          "98101",
          "98121",
          "98121",
          "98101",
          "98121",
          "98101",
          "98121",
          "98121",
          "98121",
          "98121",
          "98121",
          "98121",
          "98121",
          "98119",
          "98101",
          "98121",
          "98121",
          "98121",
          "98121",
          "98121",
          "98121",
          "98121",
          "98121",
          "98121",
          "98121",
          "98121",
          "98121",
          "98121",
          "98121",
          "98101",
          "98121",
          "98121",
          "98101",
          "98121",
          "98121",
          "98101",
          "98121",
          "98121",
          "98121",
          "98121",
          "98121",
          "98121",
          "98121",
          "98121",
          "98121",
          "98121",
          "98121",
          "98101",
          "98101",
          "98121",
          "98121",
          "98121",
          "98121",
          "98101",
          "98121",
          "98121",
          "98121",
          "98121",
          "98121",
          "98121",
          "98101",
          "98121",
          "98121",
          "98121",
          "98121",
          "98121",
          "98121",
          "98121",
          "98121",
          "98121",
          "98121",
          "98121",
          "98121",
          "98121",
          "98104",
          "98104",
          "98104",
          "98104",
          "98104",
          "98104",
          "98101",
          "98104",
          "98101",
          "98101",
          "98101",
          "98101",
          "98101",
          "98101",
          "98101",
          "98101",
          "98101",
          "98101",
          "98101",
          "98101",
          "98104",
          "98104",
          "98101",
          "98101",
          "98101",
          "98101",
          "98101",
          "98101",
          "98101",
          "98104",
          "98101",
          "98101",
          "98101",
          "98101",
          "98101",
          "98101",
          "98101",
          "98101",
          "98104",
          "98101",
          "98121",
          "98101",
          "98101",
          "98101",
          "98101",
          "98101",
          "98101",
          "98101",
          "98104",
          "98101",
          "98101",
          "98101",
          "98101",
          "98101",
          "98101",
          "98101",
          "98104",
          "98101",
          "98101",
          "98104",
          "98101",
          "98104",
          "98101",
          "98101",
          "98104",
          "98104",
          "98104",
          "98101",
          "98104",
          "98101",
          "98101",
          "98104",
          "98104",
          "98101",
          "98104",
          "98104",
          "98101",
          "98104",
          "98101",
          "98101",
          "98104",
          "98104",
          "98104",
          "98101",
          "98104",
          "98104",
          "98101",
          "98104",
          "98104",
          "98104",
          "98104",
          "98104",
          "98101",
          "98101",
          "98101",
          "98104",
          "98104",
          "98101",
          "98104",
          "98101",
          "98101",
          "98101",
          "98101",
          "98101",
          "98104",
          "98104",
          "98104",
          "98104",
          "98104",
          "98104",
          "98104",
          "98104",
          "98101",
          "98101",
          "98104",
          "98104",
          "98104",
          "98104",
          "98104",
          "98104",
          "98104",
          "98104",
          "98104",
          "98104",
          "98104",
          "98104",
          "98104",
          "98104",
          "98104",
          "98199",
          "98119",
          "98119",
          "98199",
          "98104",
          "98101",
          "98101",
          "98101",
          "98101",
          "98119",
          "98119",
          "98119",
          "98119",
          "98119",
          "98119",
          "98119",
          "98119",
          "98119",
          "98119",
          "98119",
          "98119",
          "98119",
          "98119",
          "98199",
          "98199",
          "98199"
         ],
         "y": [
          85,
          150,
          150,
          66,
          80,
          175,
          125,
          150,
          110,
          137,
          20,
          145,
          70,
          120,
          114,
          117,
          89,
          99,
          97,
          76,
          100,
          160,
          199,
          157,
          85,
          95,
          99,
          165,
          150,
          41,
          70,
          115,
          125,
          178,
          100,
          144,
          999,
          145,
          125,
          45,
          35,
          50,
          100,
          120,
          249,
          130,
          175,
          80,
          139,
          139,
          275,
          150,
          100,
          100,
          120,
          126,
          157,
          90,
          95,
          155,
          175,
          200,
          150,
          150,
          140,
          250,
          130,
          110,
          125,
          89,
          125,
          245,
          117,
          215,
          113,
          105,
          106,
          205,
          139,
          90,
          139,
          181,
          99,
          127,
          150,
          165,
          139,
          189,
          127,
          187,
          150,
          100,
          149,
          270,
          149,
          75,
          107,
          225,
          139,
          149,
          115,
          159,
          110,
          170,
          120,
          106,
          139,
          150,
          149,
          115,
          65,
          40,
          169,
          35,
          115,
          165,
          115,
          250,
          166,
          139,
          82,
          150,
          187,
          100,
          95,
          68,
          165,
          117,
          75,
          80,
          120,
          79,
          69,
          74,
          130,
          190,
          99,
          159,
          150,
          180,
          151,
          99,
          219,
          100,
          170,
          115,
          100,
          110,
          59,
          199,
          135,
          219,
          59,
          104,
          150,
          40,
          126,
          365,
          99,
          110,
          149,
          175,
          150,
          150,
          149,
          168,
          175,
          144,
          188,
          179,
          150,
          276,
          135,
          140,
          129,
          175,
          220,
          90,
          120,
          117,
          99,
          110,
          300,
          99,
          65,
          183,
          110,
          156,
          169,
          150,
          125,
          175,
          151,
          250,
          90,
          105,
          95,
          139,
          185,
          85,
          129,
          70,
          79,
          87,
          165,
          78,
          80,
          129,
          77,
          119,
          145,
          99,
          230,
          109,
          85,
          120,
          150,
          130,
          129,
          110,
          120,
          110,
          100,
          150,
          40,
          139,
          85,
          65,
          100,
          78,
          151,
          175,
          180,
          109,
          75,
          129,
          135,
          150,
          139,
          150,
          105,
          209,
          125,
          75,
          150,
          160,
          128,
          249,
          50,
          175,
          144,
          199,
          145,
          350,
          150,
          150,
          160,
          170,
          75,
          250,
          50,
          150,
          150,
          100,
          90,
          140,
          150,
          65,
          105,
          120,
          145,
          96,
          200,
          130,
          75,
          195,
          149,
          145,
          99,
          125,
          75,
          550,
          150,
          125
         ],
         "yaxis": "y"
        },
        {
         "marker": {
          "color": [
           "gray",
           "red",
           "gray",
           "red",
           "gray",
           "red",
           "gray",
           "red",
           "gray",
           "red"
          ],
          "line": {
           "color": "Black",
           "width": 2
          },
          "size": 14
         },
         "mode": "markers+text",
         "name": "Median Daily Rent Price of Apartments Per Zip Code by Super Host Status",
         "textposition": "middle right",
         "texttemplate": "%{y:$.0f}",
         "type": "scatter",
         "x": [
          "98101",
          "98101",
          "98104",
          "98104",
          "98119",
          "98119",
          "98121",
          "98121",
          "98199",
          "98199"
         ],
         "y": [
          140,
          150,
          128,
          132,
          112,
          150,
          122.5,
          139,
          107.5,
          150
         ],
         "yaxis": "y"
        }
       ],
       "layout": {
        "legend": {
         "x": 0.99,
         "xanchor": "right",
         "y": 0.99,
         "yanchor": "top"
        },
        "template": {
         "data": {
          "bar": [
           {
            "error_x": {
             "color": "#2a3f5f"
            },
            "error_y": {
             "color": "#2a3f5f"
            },
            "marker": {
             "line": {
              "color": "#E5ECF6",
              "width": 0.5
             },
             "pattern": {
              "fillmode": "overlay",
              "size": 10,
              "solidity": 0.2
             }
            },
            "type": "bar"
           }
          ],
          "barpolar": [
           {
            "marker": {
             "line": {
              "color": "#E5ECF6",
              "width": 0.5
             },
             "pattern": {
              "fillmode": "overlay",
              "size": 10,
              "solidity": 0.2
             }
            },
            "type": "barpolar"
           }
          ],
          "carpet": [
           {
            "aaxis": {
             "endlinecolor": "#2a3f5f",
             "gridcolor": "white",
             "linecolor": "white",
             "minorgridcolor": "white",
             "startlinecolor": "#2a3f5f"
            },
            "baxis": {
             "endlinecolor": "#2a3f5f",
             "gridcolor": "white",
             "linecolor": "white",
             "minorgridcolor": "white",
             "startlinecolor": "#2a3f5f"
            },
            "type": "carpet"
           }
          ],
          "choropleth": [
           {
            "colorbar": {
             "outlinewidth": 0,
             "ticks": ""
            },
            "type": "choropleth"
           }
          ],
          "contour": [
           {
            "colorbar": {
             "outlinewidth": 0,
             "ticks": ""
            },
            "colorscale": [
             [
              0,
              "#0d0887"
             ],
             [
              0.1111111111111111,
              "#46039f"
             ],
             [
              0.2222222222222222,
              "#7201a8"
             ],
             [
              0.3333333333333333,
              "#9c179e"
             ],
             [
              0.4444444444444444,
              "#bd3786"
             ],
             [
              0.5555555555555556,
              "#d8576b"
             ],
             [
              0.6666666666666666,
              "#ed7953"
             ],
             [
              0.7777777777777778,
              "#fb9f3a"
             ],
             [
              0.8888888888888888,
              "#fdca26"
             ],
             [
              1,
              "#f0f921"
             ]
            ],
            "type": "contour"
           }
          ],
          "contourcarpet": [
           {
            "colorbar": {
             "outlinewidth": 0,
             "ticks": ""
            },
            "type": "contourcarpet"
           }
          ],
          "heatmap": [
           {
            "colorbar": {
             "outlinewidth": 0,
             "ticks": ""
            },
            "colorscale": [
             [
              0,
              "#0d0887"
             ],
             [
              0.1111111111111111,
              "#46039f"
             ],
             [
              0.2222222222222222,
              "#7201a8"
             ],
             [
              0.3333333333333333,
              "#9c179e"
             ],
             [
              0.4444444444444444,
              "#bd3786"
             ],
             [
              0.5555555555555556,
              "#d8576b"
             ],
             [
              0.6666666666666666,
              "#ed7953"
             ],
             [
              0.7777777777777778,
              "#fb9f3a"
             ],
             [
              0.8888888888888888,
              "#fdca26"
             ],
             [
              1,
              "#f0f921"
             ]
            ],
            "type": "heatmap"
           }
          ],
          "heatmapgl": [
           {
            "colorbar": {
             "outlinewidth": 0,
             "ticks": ""
            },
            "colorscale": [
             [
              0,
              "#0d0887"
             ],
             [
              0.1111111111111111,
              "#46039f"
             ],
             [
              0.2222222222222222,
              "#7201a8"
             ],
             [
              0.3333333333333333,
              "#9c179e"
             ],
             [
              0.4444444444444444,
              "#bd3786"
             ],
             [
              0.5555555555555556,
              "#d8576b"
             ],
             [
              0.6666666666666666,
              "#ed7953"
             ],
             [
              0.7777777777777778,
              "#fb9f3a"
             ],
             [
              0.8888888888888888,
              "#fdca26"
             ],
             [
              1,
              "#f0f921"
             ]
            ],
            "type": "heatmapgl"
           }
          ],
          "histogram": [
           {
            "marker": {
             "pattern": {
              "fillmode": "overlay",
              "size": 10,
              "solidity": 0.2
             }
            },
            "type": "histogram"
           }
          ],
          "histogram2d": [
           {
            "colorbar": {
             "outlinewidth": 0,
             "ticks": ""
            },
            "colorscale": [
             [
              0,
              "#0d0887"
             ],
             [
              0.1111111111111111,
              "#46039f"
             ],
             [
              0.2222222222222222,
              "#7201a8"
             ],
             [
              0.3333333333333333,
              "#9c179e"
             ],
             [
              0.4444444444444444,
              "#bd3786"
             ],
             [
              0.5555555555555556,
              "#d8576b"
             ],
             [
              0.6666666666666666,
              "#ed7953"
             ],
             [
              0.7777777777777778,
              "#fb9f3a"
             ],
             [
              0.8888888888888888,
              "#fdca26"
             ],
             [
              1,
              "#f0f921"
             ]
            ],
            "type": "histogram2d"
           }
          ],
          "histogram2dcontour": [
           {
            "colorbar": {
             "outlinewidth": 0,
             "ticks": ""
            },
            "colorscale": [
             [
              0,
              "#0d0887"
             ],
             [
              0.1111111111111111,
              "#46039f"
             ],
             [
              0.2222222222222222,
              "#7201a8"
             ],
             [
              0.3333333333333333,
              "#9c179e"
             ],
             [
              0.4444444444444444,
              "#bd3786"
             ],
             [
              0.5555555555555556,
              "#d8576b"
             ],
             [
              0.6666666666666666,
              "#ed7953"
             ],
             [
              0.7777777777777778,
              "#fb9f3a"
             ],
             [
              0.8888888888888888,
              "#fdca26"
             ],
             [
              1,
              "#f0f921"
             ]
            ],
            "type": "histogram2dcontour"
           }
          ],
          "mesh3d": [
           {
            "colorbar": {
             "outlinewidth": 0,
             "ticks": ""
            },
            "type": "mesh3d"
           }
          ],
          "parcoords": [
           {
            "line": {
             "colorbar": {
              "outlinewidth": 0,
              "ticks": ""
             }
            },
            "type": "parcoords"
           }
          ],
          "pie": [
           {
            "automargin": true,
            "type": "pie"
           }
          ],
          "scatter": [
           {
            "fillpattern": {
             "fillmode": "overlay",
             "size": 10,
             "solidity": 0.2
            },
            "type": "scatter"
           }
          ],
          "scatter3d": [
           {
            "line": {
             "colorbar": {
              "outlinewidth": 0,
              "ticks": ""
             }
            },
            "marker": {
             "colorbar": {
              "outlinewidth": 0,
              "ticks": ""
             }
            },
            "type": "scatter3d"
           }
          ],
          "scattercarpet": [
           {
            "marker": {
             "colorbar": {
              "outlinewidth": 0,
              "ticks": ""
             }
            },
            "type": "scattercarpet"
           }
          ],
          "scattergeo": [
           {
            "marker": {
             "colorbar": {
              "outlinewidth": 0,
              "ticks": ""
             }
            },
            "type": "scattergeo"
           }
          ],
          "scattergl": [
           {
            "marker": {
             "colorbar": {
              "outlinewidth": 0,
              "ticks": ""
             }
            },
            "type": "scattergl"
           }
          ],
          "scattermapbox": [
           {
            "marker": {
             "colorbar": {
              "outlinewidth": 0,
              "ticks": ""
             }
            },
            "type": "scattermapbox"
           }
          ],
          "scatterpolar": [
           {
            "marker": {
             "colorbar": {
              "outlinewidth": 0,
              "ticks": ""
             }
            },
            "type": "scatterpolar"
           }
          ],
          "scatterpolargl": [
           {
            "marker": {
             "colorbar": {
              "outlinewidth": 0,
              "ticks": ""
             }
            },
            "type": "scatterpolargl"
           }
          ],
          "scatterternary": [
           {
            "marker": {
             "colorbar": {
              "outlinewidth": 0,
              "ticks": ""
             }
            },
            "type": "scatterternary"
           }
          ],
          "surface": [
           {
            "colorbar": {
             "outlinewidth": 0,
             "ticks": ""
            },
            "colorscale": [
             [
              0,
              "#0d0887"
             ],
             [
              0.1111111111111111,
              "#46039f"
             ],
             [
              0.2222222222222222,
              "#7201a8"
             ],
             [
              0.3333333333333333,
              "#9c179e"
             ],
             [
              0.4444444444444444,
              "#bd3786"
             ],
             [
              0.5555555555555556,
              "#d8576b"
             ],
             [
              0.6666666666666666,
              "#ed7953"
             ],
             [
              0.7777777777777778,
              "#fb9f3a"
             ],
             [
              0.8888888888888888,
              "#fdca26"
             ],
             [
              1,
              "#f0f921"
             ]
            ],
            "type": "surface"
           }
          ],
          "table": [
           {
            "cells": {
             "fill": {
              "color": "#EBF0F8"
             },
             "line": {
              "color": "white"
             }
            },
            "header": {
             "fill": {
              "color": "#C8D4E3"
             },
             "line": {
              "color": "white"
             }
            },
            "type": "table"
           }
          ]
         },
         "layout": {
          "annotationdefaults": {
           "arrowcolor": "#2a3f5f",
           "arrowhead": 0,
           "arrowwidth": 1
          },
          "autotypenumbers": "strict",
          "coloraxis": {
           "colorbar": {
            "outlinewidth": 0,
            "ticks": ""
           }
          },
          "colorscale": {
           "diverging": [
            [
             0,
             "#8e0152"
            ],
            [
             0.1,
             "#c51b7d"
            ],
            [
             0.2,
             "#de77ae"
            ],
            [
             0.3,
             "#f1b6da"
            ],
            [
             0.4,
             "#fde0ef"
            ],
            [
             0.5,
             "#f7f7f7"
            ],
            [
             0.6,
             "#e6f5d0"
            ],
            [
             0.7,
             "#b8e186"
            ],
            [
             0.8,
             "#7fbc41"
            ],
            [
             0.9,
             "#4d9221"
            ],
            [
             1,
             "#276419"
            ]
           ],
           "sequential": [
            [
             0,
             "#0d0887"
            ],
            [
             0.1111111111111111,
             "#46039f"
            ],
            [
             0.2222222222222222,
             "#7201a8"
            ],
            [
             0.3333333333333333,
             "#9c179e"
            ],
            [
             0.4444444444444444,
             "#bd3786"
            ],
            [
             0.5555555555555556,
             "#d8576b"
            ],
            [
             0.6666666666666666,
             "#ed7953"
            ],
            [
             0.7777777777777778,
             "#fb9f3a"
            ],
            [
             0.8888888888888888,
             "#fdca26"
            ],
            [
             1,
             "#f0f921"
            ]
           ],
           "sequentialminus": [
            [
             0,
             "#0d0887"
            ],
            [
             0.1111111111111111,
             "#46039f"
            ],
            [
             0.2222222222222222,
             "#7201a8"
            ],
            [
             0.3333333333333333,
             "#9c179e"
            ],
            [
             0.4444444444444444,
             "#bd3786"
            ],
            [
             0.5555555555555556,
             "#d8576b"
            ],
            [
             0.6666666666666666,
             "#ed7953"
            ],
            [
             0.7777777777777778,
             "#fb9f3a"
            ],
            [
             0.8888888888888888,
             "#fdca26"
            ],
            [
             1,
             "#f0f921"
            ]
           ]
          },
          "colorway": [
           "#636efa",
           "#EF553B",
           "#00cc96",
           "#ab63fa",
           "#FFA15A",
           "#19d3f3",
           "#FF6692",
           "#B6E880",
           "#FF97FF",
           "#FECB52"
          ],
          "font": {
           "color": "#2a3f5f"
          },
          "geo": {
           "bgcolor": "white",
           "lakecolor": "white",
           "landcolor": "#E5ECF6",
           "showlakes": true,
           "showland": true,
           "subunitcolor": "white"
          },
          "hoverlabel": {
           "align": "left"
          },
          "hovermode": "closest",
          "mapbox": {
           "style": "light"
          },
          "paper_bgcolor": "white",
          "plot_bgcolor": "#E5ECF6",
          "polar": {
           "angularaxis": {
            "gridcolor": "white",
            "linecolor": "white",
            "ticks": ""
           },
           "bgcolor": "#E5ECF6",
           "radialaxis": {
            "gridcolor": "white",
            "linecolor": "white",
            "ticks": ""
           }
          },
          "scene": {
           "xaxis": {
            "backgroundcolor": "#E5ECF6",
            "gridcolor": "white",
            "gridwidth": 2,
            "linecolor": "white",
            "showbackground": true,
            "ticks": "",
            "zerolinecolor": "white"
           },
           "yaxis": {
            "backgroundcolor": "#E5ECF6",
            "gridcolor": "white",
            "gridwidth": 2,
            "linecolor": "white",
            "showbackground": true,
            "ticks": "",
            "zerolinecolor": "white"
           },
           "zaxis": {
            "backgroundcolor": "#E5ECF6",
            "gridcolor": "white",
            "gridwidth": 2,
            "linecolor": "white",
            "showbackground": true,
            "ticks": "",
            "zerolinecolor": "white"
           }
          },
          "shapedefaults": {
           "line": {
            "color": "#2a3f5f"
           }
          },
          "ternary": {
           "aaxis": {
            "gridcolor": "white",
            "linecolor": "white",
            "ticks": ""
           },
           "baxis": {
            "gridcolor": "white",
            "linecolor": "white",
            "ticks": ""
           },
           "bgcolor": "#E5ECF6",
           "caxis": {
            "gridcolor": "white",
            "linecolor": "white",
            "ticks": ""
           }
          },
          "title": {
           "x": 0.05
          },
          "xaxis": {
           "automargin": true,
           "gridcolor": "white",
           "linecolor": "white",
           "ticks": "",
           "title": {
            "standoff": 15
           },
           "zerolinecolor": "white",
           "zerolinewidth": 2
          },
          "yaxis": {
           "automargin": true,
           "gridcolor": "white",
           "linecolor": "white",
           "ticks": "",
           "title": {
            "standoff": 15
           },
           "zerolinecolor": "white",
           "zerolinewidth": 2
          }
         }
        },
        "title": {
         "text": "Daily Rent Price Analysis of 1Bd/1Ba Seattle Airbnb Apartments in Top Five Most Expensive Zip Codes vs. Super Host Status <br>Data Includes 284 1 Bd/1Ba Apartments Posted for 5 Zipcodes on Seattle Airbnb <br>Data Timeframe between 2016-01-04 and 2017-01-02"
        },
        "xaxis": {
         "anchor": "y",
         "domain": [
          0,
          0.94
         ],
         "title": {
          "text": "Zipcode"
         }
        },
        "yaxis": {
         "anchor": "x",
         "domain": [
          0,
          1
         ],
         "tickprefix": "$",
         "title": {
          "text": "Daily Rent Price of Apartments"
         }
        },
        "yaxis2": {
         "anchor": "x",
         "overlaying": "y",
         "side": "right"
        }
       }
      }
     },
     "metadata": {},
     "output_type": "display_data"
    }
   ],
   "source": [
    "# Plot of median prices for 1 bed 1 bath apartments by zipcode, along with counts of apartments included\n",
    "fig_hosts = make_subplots(specs=[[{\"secondary_y\": True}]])\n",
    "\n",
    "\n",
    "fig_hosts.add_trace(\n",
    "        go.Scatter(name='Daily Rent Price of Apartments Per Zip Code by Super Host Status', x=df_apt_final_host['zipcode'], y=df_apt_final_host['price'],\n",
    "        yaxis='y',\n",
    "        mode='markers',\n",
    "        marker=dict(color=df_apt_final_host['color_ind'])\n",
    "        ))\n",
    "        \n",
    "fig_hosts.add_trace(\n",
    "        go.Scatter(name='Median Daily Rent Price of Apartments Per Zip Code by Super Host Status', x=df_apt_final_host_grouped['zipcode'], y=df_apt_final_host_grouped['median_price_host'],\n",
    "        yaxis='y',\n",
    "        # mode='lines+markers+text', legendrank=2, text=df_apt_final_zip['median_price'], \n",
    "        mode='markers+text',\n",
    "        marker=dict(size=14,\n",
    "            color=df_apt_final_host_grouped['color_ind'],\n",
    "            line=dict(width=2,color='Black')\n",
    "            ),\n",
    "        textposition= \"middle right\",\n",
    "        texttemplate = \"%{y:$.0f}\",\n",
    "        ))\n",
    "\n",
    "\n",
    "fig_hosts.update_layout(\n",
    "                    title = (\"Daily Rent Price Analysis of 1Bd/1Ba Seattle Airbnb Apartments in Top Five Most Expensive Zip Codes vs. Super Host Status <br>Data Includes {:,} 1 Bd/1Ba Apartments Posted for {} Zipcodes on Seattle Airbnb <br>Data Timeframe between {} and {}\".format(\n",
    "                        df_apt_final_host['id'].count(),\n",
    "                        df_apt_final_host['zipcode'].nunique(),\n",
    "                        min(df_cal['date']),\n",
    "                        max(df_cal['date'])\n",
    "                        )\n",
    "                        ),\n",
    "                    xaxis_title=\"Zipcode\",\n",
    "                    yaxis_title=\"Daily Rent Price of Apartments\",\n",
    "                    # yaxis2_title=\"Median Price of Apartments\",\n",
    "                    legend=dict(\n",
    "                        yanchor=\"top\",\n",
    "                        y=0.99,\n",
    "                        xanchor=\"right\",\n",
    "                        x=0.99\n",
    "                        )\n",
    "                    )\n",
    "fig_hosts.update_layout(yaxis_tickprefix = '$')\n",
    "fig_hosts.show()"
   ]
  },
  {
   "cell_type": "markdown",
   "metadata": {},
   "source": [
    "Question 2 Takeaways for Investor: Apartment Rent Median Price Average Increase in the top 5 most expensive zipcodes "
   ]
  },
  {
   "cell_type": "code",
   "execution_count": 10,
   "metadata": {},
   "outputs": [
    {
     "name": "stdout",
     "output_type": "stream",
     "text": [
      "Super hosts see an average increase in median daily rent price across the top five zip codes of 19.44% vs. non-super hosts\n"
     ]
    },
    {
     "name": "stderr",
     "output_type": "stream",
     "text": [
      "c:\\Users\\AMELATTI\\AppData\\Local\\Ford-Conda\\envs\\py38_jupyter\\lib\\site-packages\\numpy\\core\\fromnumeric.py:3472: FutureWarning:\n",
      "\n",
      "In a future version, DataFrame.mean(axis=None) will return a scalar mean over the entire DataFrame. To retain the old behavior, use 'frame.mean(axis=0)' or just 'frame.mean()'\n",
      "\n"
     ]
    }
   ],
   "source": [
    "# Derive % expected increase in median rent value for super host status in top 5 most expensive zip codes\n",
    "\n",
    "super_hosts_medians = df_apt_final_host_grouped['median_price_host'][df_apt_final_host_grouped['host_is_superhost'] == 't'].reset_index()\n",
    "not_super_hosts_medians = df_apt_final_host_grouped['median_price_host'][df_apt_final_host_grouped['host_is_superhost'] == 'f'].reset_index()\n",
    "percent_delta_medians = round(((super_hosts_medians / not_super_hosts_medians) - 1) * 100,2)\n",
    "\n",
    "# print(percent_delta_medians)\n",
    "print('Super hosts see an average increase in median daily rent price across the top five zip codes of {}% vs. non-super hosts'.format(round(np.mean(percent_delta_medians)[1],2)))"
   ]
  },
  {
   "cell_type": "markdown",
   "metadata": {},
   "source": [
    "Question 3) What are some of the key contributing factors that \"super hosts\" have, and what should our investor aim to do to become one?  \n",
    "1) Pull as many columns that relate to being a \"super host\" as possible from df_list\n",
    "2) Modify data to fit our comparison metrics\n",
    "3) Determine the difference in percent of the averages for the columns between super hosts and not super hosts\n",
    "4) Plot the graph to show the key elements that separate a super host from a not super host"
   ]
  },
  {
   "cell_type": "code",
   "execution_count": 11,
   "metadata": {},
   "outputs": [
    {
     "name": "stdout",
     "output_type": "stream",
     "text": [
      "df_super original shape (3818, 11)\n",
      "df_super shape after dropping key na rows is (2677, 11)\n"
     ]
    },
    {
     "data": {
      "text/html": [
       "<div>\n",
       "<style scoped>\n",
       "    .dataframe tbody tr th:only-of-type {\n",
       "        vertical-align: middle;\n",
       "    }\n",
       "\n",
       "    .dataframe tbody tr th {\n",
       "        vertical-align: top;\n",
       "    }\n",
       "\n",
       "    .dataframe thead th {\n",
       "        text-align: right;\n",
       "    }\n",
       "</style>\n",
       "<table border=\"1\" class=\"dataframe\">\n",
       "  <thead>\n",
       "    <tr style=\"text-align: right;\">\n",
       "      <th></th>\n",
       "      <th>host_is_superhost</th>\n",
       "      <th>host_response_rate</th>\n",
       "      <th>review_scores_communication</th>\n",
       "      <th>host_has_profile_pic</th>\n",
       "      <th>host_identity_verified</th>\n",
       "      <th>host_location</th>\n",
       "      <th>host_about_bool</th>\n",
       "      <th>host_response_time_int</th>\n",
       "    </tr>\n",
       "  </thead>\n",
       "  <tbody>\n",
       "    <tr>\n",
       "      <th>0</th>\n",
       "      <td>False</td>\n",
       "      <td>96</td>\n",
       "      <td>10.0</td>\n",
       "      <td>True</td>\n",
       "      <td>True</td>\n",
       "      <td>2</td>\n",
       "      <td>True</td>\n",
       "      <td>2.0</td>\n",
       "    </tr>\n",
       "    <tr>\n",
       "      <th>1</th>\n",
       "      <td>True</td>\n",
       "      <td>98</td>\n",
       "      <td>10.0</td>\n",
       "      <td>True</td>\n",
       "      <td>True</td>\n",
       "      <td>2</td>\n",
       "      <td>True</td>\n",
       "      <td>1.0</td>\n",
       "    </tr>\n",
       "    <tr>\n",
       "      <th>2</th>\n",
       "      <td>False</td>\n",
       "      <td>67</td>\n",
       "      <td>10.0</td>\n",
       "      <td>True</td>\n",
       "      <td>True</td>\n",
       "      <td>2</td>\n",
       "      <td>True</td>\n",
       "      <td>2.0</td>\n",
       "    </tr>\n",
       "    <tr>\n",
       "      <th>6</th>\n",
       "      <td>True</td>\n",
       "      <td>100</td>\n",
       "      <td>10.0</td>\n",
       "      <td>True</td>\n",
       "      <td>True</td>\n",
       "      <td>2</td>\n",
       "      <td>True</td>\n",
       "      <td>1.0</td>\n",
       "    </tr>\n",
       "    <tr>\n",
       "      <th>7</th>\n",
       "      <td>True</td>\n",
       "      <td>100</td>\n",
       "      <td>10.0</td>\n",
       "      <td>True</td>\n",
       "      <td>True</td>\n",
       "      <td>2</td>\n",
       "      <td>True</td>\n",
       "      <td>1.0</td>\n",
       "    </tr>\n",
       "  </tbody>\n",
       "</table>\n",
       "</div>"
      ],
      "text/plain": [
       "   host_is_superhost  host_response_rate  review_scores_communication  \\\n",
       "0              False                  96                         10.0   \n",
       "1               True                  98                         10.0   \n",
       "2              False                  67                         10.0   \n",
       "6               True                 100                         10.0   \n",
       "7               True                 100                         10.0   \n",
       "\n",
       "   host_has_profile_pic  host_identity_verified host_location  \\\n",
       "0                  True                    True             2   \n",
       "1                  True                    True             2   \n",
       "2                  True                    True             2   \n",
       "6                  True                    True             2   \n",
       "7                  True                    True             2   \n",
       "\n",
       "   host_about_bool  host_response_time_int  \n",
       "0             True                     2.0  \n",
       "1             True                     1.0  \n",
       "2             True                     2.0  \n",
       "6             True                     1.0  \n",
       "7             True                     1.0  "
      ]
     },
     "execution_count": 11,
     "metadata": {},
     "output_type": "execute_result"
    }
   ],
   "source": [
    "df_super = df_list[['id','host_is_superhost','host_id','host_response_time',\n",
    "'host_response_rate',\n",
    "'host_acceptance_rate',\n",
    "'review_scores_communication',\n",
    "'host_has_profile_pic',\n",
    "'host_identity_verified',\n",
    "'host_location',\n",
    "'host_about']]\n",
    "print('df_super original shape {}'.format(df_super.shape))\n",
    "\n",
    "df_super = df_super.dropna(subset=['host_is_superhost','host_response_time','host_response_rate','host_acceptance_rate','review_scores_communication','host_location'],how='any',axis=0)\n",
    "print('df_super shape after dropping key na rows is {}'.format(df_super.shape))\n",
    "\n",
    "# Using some NAs still as data points in host_about\n",
    "df_super['host_about_bool'] = np.where(~df_super['host_about'].isna(),True,False)\n",
    "\n",
    "# Convert host_response_time to a consistent categorical value\n",
    "df_super['host_response_time_int'] = np.where(df_super['host_response_time'] == 'a few days or more', 4, np.NaN)\n",
    "df_super['host_response_time_int'] = np.where(df_super['host_response_time'] == 'within a day', 3, df_super['host_response_time_int'])\n",
    "df_super['host_response_time_int'] = np.where(df_super['host_response_time'] == 'within a few hours', 2, df_super['host_response_time_int'])\n",
    "df_super['host_response_time_int'] = np.where(df_super['host_response_time'] == 'within an hour', 1, df_super['host_response_time_int'])\n",
    "\n",
    "# Convert host_response_rate to a quantitative value from a string\n",
    "df_super['host_response_rate'] = df_super['host_response_rate'].str.replace('%','').astype(int)\n",
    "\n",
    "# Convert multiple columns to bools\n",
    "df_super['host_is_superhost'] = np.where(df_super['host_is_superhost'] == 't',True,False)\n",
    "df_super['host_has_profile_pic'] = np.where(df_super['host_has_profile_pic'] == 't',True,False)\n",
    "df_super['host_identity_verified'] = np.where(df_super['host_identity_verified'] == 't',True,False)\n",
    "\n",
    "\n",
    "# Convert host location from string values to numbers based on 0 = not in washington or seattle, 1= in washington, 2=in seattle\n",
    "df_super['host_location'] = np.where(df_super['host_location'].str.contains('Seattle'),'Seattle',df_super['host_location'])\n",
    "df_super['host_location'] = np.where(df_super['host_location'].str.contains('Washington'),'Wash',df_super['host_location'])\n",
    "df_super['host_location'] = np.where((df_super['host_location'] != 'Seattle') & (df_super['host_location'] != 'Wash'),'Remote',df_super['host_location'])\n",
    "\n",
    "df_super['host_location'] = np.where(df_super['host_location'] == 'Remote',0,df_super['host_location'])\n",
    "df_super['host_location'] = np.where(df_super['host_location'] == 'Wash',1,df_super['host_location'])\n",
    "df_super['host_location'] = np.where(df_super['host_location'] == 'Seattle',2,df_super['host_location'])\n",
    "\n",
    "# Deleting columns that a) aren't included in the correlation, or b) is host_acceptance_rate which is 100% for ALL BUT ONE of the rows and would not provide meaningful results\n",
    "df_super_clean = df_super.drop(columns=['id','host_id','host_response_time','host_about','host_acceptance_rate'])\n",
    "\n",
    "df_super_clean.head()"
   ]
  },
  {
   "cell_type": "code",
   "execution_count": 22,
   "metadata": {},
   "outputs": [],
   "source": [
    "# Normalize the columns!!\n",
    "\n",
    "# Used min max scaler as many of the values are booleans\n",
    "norm = preprocessing.MinMaxScaler().fit_transform(df_super_clean)\n",
    "normalized_df = pd.DataFrame(norm, columns=df_super_clean.columns)\n",
    "\n",
    "X = normalized_df.iloc[:,1:]\n",
    "y = normalized_df.iloc[:,0]  \n"
   ]
  },
  {
   "cell_type": "code",
   "execution_count": 80,
   "metadata": {},
   "outputs": [
    {
     "name": "stdout",
     "output_type": "stream",
     "text": [
      "Train R^2 = 0.09\n",
      "Test R^2 = 0.07\n",
      "Our R^2 values are pretty low, even for the training data set! This could imply that there is a lot of variance in our training data, or that we would need to consider a different model to try and predict a categorical classification (aka a 1 for super host or a 0 for not super host)\n"
     ]
    }
   ],
   "source": [
    "# Train test split\n",
    "X_train, X_test, y_train, y_test = train_test_split(X, y, test_size=0.25, random_state=20)\n",
    "\n",
    "# Train model, do not have to normalize within model because we already did it!\n",
    "linreg_model = LinearRegression()\n",
    "linreg_model.fit(X_train, y_train)\n",
    "\n",
    "# Predict using model\n",
    "y_predict_train = linreg_model.predict(X_train)\n",
    "y_predict = linreg_model.predict(X_test)\n",
    "\n",
    "r2_results_train= r2_score(y_train, y_predict_train)\n",
    "r2_results_test = r2_score(y_test, y_predict)\n",
    "\n",
    "print('Train R^2 = {}'.format(round(r2_results_train,2)))\n",
    "print('Test R^2 = {}'.format(round(r2_results_test,2)))\n",
    "print('Our R^2 values are pretty low, even for the training data set! This could imply that there is a lot of variance in our training data, or that we would need to consider a different model to try and predict a categorical classification (aka a 1 for super host or a 0 for not super host)')"
   ]
  },
  {
   "cell_type": "code",
   "execution_count": 79,
   "metadata": {},
   "outputs": [
    {
     "name": "stdout",
     "output_type": "stream",
     "text": [
      "[ 0.27464939  0.86586532 -0.27453908  0.10435183  0.15963191  0.07678976\n",
      " -0.16504817]\n"
     ]
    }
   ],
   "source": [
    "print(linreg_model.coef_)"
   ]
  },
  {
   "cell_type": "markdown",
   "metadata": {},
   "source": [
    "Question 3 Results displayed below"
   ]
  },
  {
   "cell_type": "code",
   "execution_count": 78,
   "metadata": {},
   "outputs": [
    {
     "data": {
      "application/vnd.plotly.v1+json": {
       "config": {
        "plotlyServerURL": "https://plot.ly"
       },
       "data": [
        {
         "orientation": "h",
         "textposition": "inside",
         "texttemplate": "%{x:.02}",
         "type": "bar",
         "x": [
          0.2746493913387633,
          0.8658653176671948,
          -0.2745390777530349,
          0.10435183042181458,
          0.15963190905595182,
          0.07678975591186307,
          -0.16504816914620077
         ],
         "y": [
          "host_response_rate",
          "review_scores_communication",
          "host_has_profile_pic",
          "host_identity_verified",
          "host_location",
          "host_about_bool",
          "host_response_time_int"
         ]
        }
       ],
       "layout": {
        "legend": {
         "x": 0.99,
         "xanchor": "right",
         "y": 0.99,
         "yanchor": "top"
        },
        "template": {
         "data": {
          "bar": [
           {
            "error_x": {
             "color": "#2a3f5f"
            },
            "error_y": {
             "color": "#2a3f5f"
            },
            "marker": {
             "line": {
              "color": "#E5ECF6",
              "width": 0.5
             },
             "pattern": {
              "fillmode": "overlay",
              "size": 10,
              "solidity": 0.2
             }
            },
            "type": "bar"
           }
          ],
          "barpolar": [
           {
            "marker": {
             "line": {
              "color": "#E5ECF6",
              "width": 0.5
             },
             "pattern": {
              "fillmode": "overlay",
              "size": 10,
              "solidity": 0.2
             }
            },
            "type": "barpolar"
           }
          ],
          "carpet": [
           {
            "aaxis": {
             "endlinecolor": "#2a3f5f",
             "gridcolor": "white",
             "linecolor": "white",
             "minorgridcolor": "white",
             "startlinecolor": "#2a3f5f"
            },
            "baxis": {
             "endlinecolor": "#2a3f5f",
             "gridcolor": "white",
             "linecolor": "white",
             "minorgridcolor": "white",
             "startlinecolor": "#2a3f5f"
            },
            "type": "carpet"
           }
          ],
          "choropleth": [
           {
            "colorbar": {
             "outlinewidth": 0,
             "ticks": ""
            },
            "type": "choropleth"
           }
          ],
          "contour": [
           {
            "colorbar": {
             "outlinewidth": 0,
             "ticks": ""
            },
            "colorscale": [
             [
              0,
              "#0d0887"
             ],
             [
              0.1111111111111111,
              "#46039f"
             ],
             [
              0.2222222222222222,
              "#7201a8"
             ],
             [
              0.3333333333333333,
              "#9c179e"
             ],
             [
              0.4444444444444444,
              "#bd3786"
             ],
             [
              0.5555555555555556,
              "#d8576b"
             ],
             [
              0.6666666666666666,
              "#ed7953"
             ],
             [
              0.7777777777777778,
              "#fb9f3a"
             ],
             [
              0.8888888888888888,
              "#fdca26"
             ],
             [
              1,
              "#f0f921"
             ]
            ],
            "type": "contour"
           }
          ],
          "contourcarpet": [
           {
            "colorbar": {
             "outlinewidth": 0,
             "ticks": ""
            },
            "type": "contourcarpet"
           }
          ],
          "heatmap": [
           {
            "colorbar": {
             "outlinewidth": 0,
             "ticks": ""
            },
            "colorscale": [
             [
              0,
              "#0d0887"
             ],
             [
              0.1111111111111111,
              "#46039f"
             ],
             [
              0.2222222222222222,
              "#7201a8"
             ],
             [
              0.3333333333333333,
              "#9c179e"
             ],
             [
              0.4444444444444444,
              "#bd3786"
             ],
             [
              0.5555555555555556,
              "#d8576b"
             ],
             [
              0.6666666666666666,
              "#ed7953"
             ],
             [
              0.7777777777777778,
              "#fb9f3a"
             ],
             [
              0.8888888888888888,
              "#fdca26"
             ],
             [
              1,
              "#f0f921"
             ]
            ],
            "type": "heatmap"
           }
          ],
          "heatmapgl": [
           {
            "colorbar": {
             "outlinewidth": 0,
             "ticks": ""
            },
            "colorscale": [
             [
              0,
              "#0d0887"
             ],
             [
              0.1111111111111111,
              "#46039f"
             ],
             [
              0.2222222222222222,
              "#7201a8"
             ],
             [
              0.3333333333333333,
              "#9c179e"
             ],
             [
              0.4444444444444444,
              "#bd3786"
             ],
             [
              0.5555555555555556,
              "#d8576b"
             ],
             [
              0.6666666666666666,
              "#ed7953"
             ],
             [
              0.7777777777777778,
              "#fb9f3a"
             ],
             [
              0.8888888888888888,
              "#fdca26"
             ],
             [
              1,
              "#f0f921"
             ]
            ],
            "type": "heatmapgl"
           }
          ],
          "histogram": [
           {
            "marker": {
             "pattern": {
              "fillmode": "overlay",
              "size": 10,
              "solidity": 0.2
             }
            },
            "type": "histogram"
           }
          ],
          "histogram2d": [
           {
            "colorbar": {
             "outlinewidth": 0,
             "ticks": ""
            },
            "colorscale": [
             [
              0,
              "#0d0887"
             ],
             [
              0.1111111111111111,
              "#46039f"
             ],
             [
              0.2222222222222222,
              "#7201a8"
             ],
             [
              0.3333333333333333,
              "#9c179e"
             ],
             [
              0.4444444444444444,
              "#bd3786"
             ],
             [
              0.5555555555555556,
              "#d8576b"
             ],
             [
              0.6666666666666666,
              "#ed7953"
             ],
             [
              0.7777777777777778,
              "#fb9f3a"
             ],
             [
              0.8888888888888888,
              "#fdca26"
             ],
             [
              1,
              "#f0f921"
             ]
            ],
            "type": "histogram2d"
           }
          ],
          "histogram2dcontour": [
           {
            "colorbar": {
             "outlinewidth": 0,
             "ticks": ""
            },
            "colorscale": [
             [
              0,
              "#0d0887"
             ],
             [
              0.1111111111111111,
              "#46039f"
             ],
             [
              0.2222222222222222,
              "#7201a8"
             ],
             [
              0.3333333333333333,
              "#9c179e"
             ],
             [
              0.4444444444444444,
              "#bd3786"
             ],
             [
              0.5555555555555556,
              "#d8576b"
             ],
             [
              0.6666666666666666,
              "#ed7953"
             ],
             [
              0.7777777777777778,
              "#fb9f3a"
             ],
             [
              0.8888888888888888,
              "#fdca26"
             ],
             [
              1,
              "#f0f921"
             ]
            ],
            "type": "histogram2dcontour"
           }
          ],
          "mesh3d": [
           {
            "colorbar": {
             "outlinewidth": 0,
             "ticks": ""
            },
            "type": "mesh3d"
           }
          ],
          "parcoords": [
           {
            "line": {
             "colorbar": {
              "outlinewidth": 0,
              "ticks": ""
             }
            },
            "type": "parcoords"
           }
          ],
          "pie": [
           {
            "automargin": true,
            "type": "pie"
           }
          ],
          "scatter": [
           {
            "fillpattern": {
             "fillmode": "overlay",
             "size": 10,
             "solidity": 0.2
            },
            "type": "scatter"
           }
          ],
          "scatter3d": [
           {
            "line": {
             "colorbar": {
              "outlinewidth": 0,
              "ticks": ""
             }
            },
            "marker": {
             "colorbar": {
              "outlinewidth": 0,
              "ticks": ""
             }
            },
            "type": "scatter3d"
           }
          ],
          "scattercarpet": [
           {
            "marker": {
             "colorbar": {
              "outlinewidth": 0,
              "ticks": ""
             }
            },
            "type": "scattercarpet"
           }
          ],
          "scattergeo": [
           {
            "marker": {
             "colorbar": {
              "outlinewidth": 0,
              "ticks": ""
             }
            },
            "type": "scattergeo"
           }
          ],
          "scattergl": [
           {
            "marker": {
             "colorbar": {
              "outlinewidth": 0,
              "ticks": ""
             }
            },
            "type": "scattergl"
           }
          ],
          "scattermapbox": [
           {
            "marker": {
             "colorbar": {
              "outlinewidth": 0,
              "ticks": ""
             }
            },
            "type": "scattermapbox"
           }
          ],
          "scatterpolar": [
           {
            "marker": {
             "colorbar": {
              "outlinewidth": 0,
              "ticks": ""
             }
            },
            "type": "scatterpolar"
           }
          ],
          "scatterpolargl": [
           {
            "marker": {
             "colorbar": {
              "outlinewidth": 0,
              "ticks": ""
             }
            },
            "type": "scatterpolargl"
           }
          ],
          "scatterternary": [
           {
            "marker": {
             "colorbar": {
              "outlinewidth": 0,
              "ticks": ""
             }
            },
            "type": "scatterternary"
           }
          ],
          "surface": [
           {
            "colorbar": {
             "outlinewidth": 0,
             "ticks": ""
            },
            "colorscale": [
             [
              0,
              "#0d0887"
             ],
             [
              0.1111111111111111,
              "#46039f"
             ],
             [
              0.2222222222222222,
              "#7201a8"
             ],
             [
              0.3333333333333333,
              "#9c179e"
             ],
             [
              0.4444444444444444,
              "#bd3786"
             ],
             [
              0.5555555555555556,
              "#d8576b"
             ],
             [
              0.6666666666666666,
              "#ed7953"
             ],
             [
              0.7777777777777778,
              "#fb9f3a"
             ],
             [
              0.8888888888888888,
              "#fdca26"
             ],
             [
              1,
              "#f0f921"
             ]
            ],
            "type": "surface"
           }
          ],
          "table": [
           {
            "cells": {
             "fill": {
              "color": "#EBF0F8"
             },
             "line": {
              "color": "white"
             }
            },
            "header": {
             "fill": {
              "color": "#C8D4E3"
             },
             "line": {
              "color": "white"
             }
            },
            "type": "table"
           }
          ]
         },
         "layout": {
          "annotationdefaults": {
           "arrowcolor": "#2a3f5f",
           "arrowhead": 0,
           "arrowwidth": 1
          },
          "autotypenumbers": "strict",
          "coloraxis": {
           "colorbar": {
            "outlinewidth": 0,
            "ticks": ""
           }
          },
          "colorscale": {
           "diverging": [
            [
             0,
             "#8e0152"
            ],
            [
             0.1,
             "#c51b7d"
            ],
            [
             0.2,
             "#de77ae"
            ],
            [
             0.3,
             "#f1b6da"
            ],
            [
             0.4,
             "#fde0ef"
            ],
            [
             0.5,
             "#f7f7f7"
            ],
            [
             0.6,
             "#e6f5d0"
            ],
            [
             0.7,
             "#b8e186"
            ],
            [
             0.8,
             "#7fbc41"
            ],
            [
             0.9,
             "#4d9221"
            ],
            [
             1,
             "#276419"
            ]
           ],
           "sequential": [
            [
             0,
             "#0d0887"
            ],
            [
             0.1111111111111111,
             "#46039f"
            ],
            [
             0.2222222222222222,
             "#7201a8"
            ],
            [
             0.3333333333333333,
             "#9c179e"
            ],
            [
             0.4444444444444444,
             "#bd3786"
            ],
            [
             0.5555555555555556,
             "#d8576b"
            ],
            [
             0.6666666666666666,
             "#ed7953"
            ],
            [
             0.7777777777777778,
             "#fb9f3a"
            ],
            [
             0.8888888888888888,
             "#fdca26"
            ],
            [
             1,
             "#f0f921"
            ]
           ],
           "sequentialminus": [
            [
             0,
             "#0d0887"
            ],
            [
             0.1111111111111111,
             "#46039f"
            ],
            [
             0.2222222222222222,
             "#7201a8"
            ],
            [
             0.3333333333333333,
             "#9c179e"
            ],
            [
             0.4444444444444444,
             "#bd3786"
            ],
            [
             0.5555555555555556,
             "#d8576b"
            ],
            [
             0.6666666666666666,
             "#ed7953"
            ],
            [
             0.7777777777777778,
             "#fb9f3a"
            ],
            [
             0.8888888888888888,
             "#fdca26"
            ],
            [
             1,
             "#f0f921"
            ]
           ]
          },
          "colorway": [
           "#636efa",
           "#EF553B",
           "#00cc96",
           "#ab63fa",
           "#FFA15A",
           "#19d3f3",
           "#FF6692",
           "#B6E880",
           "#FF97FF",
           "#FECB52"
          ],
          "font": {
           "color": "#2a3f5f"
          },
          "geo": {
           "bgcolor": "white",
           "lakecolor": "white",
           "landcolor": "#E5ECF6",
           "showlakes": true,
           "showland": true,
           "subunitcolor": "white"
          },
          "hoverlabel": {
           "align": "left"
          },
          "hovermode": "closest",
          "mapbox": {
           "style": "light"
          },
          "paper_bgcolor": "white",
          "plot_bgcolor": "#E5ECF6",
          "polar": {
           "angularaxis": {
            "gridcolor": "white",
            "linecolor": "white",
            "ticks": ""
           },
           "bgcolor": "#E5ECF6",
           "radialaxis": {
            "gridcolor": "white",
            "linecolor": "white",
            "ticks": ""
           }
          },
          "scene": {
           "xaxis": {
            "backgroundcolor": "#E5ECF6",
            "gridcolor": "white",
            "gridwidth": 2,
            "linecolor": "white",
            "showbackground": true,
            "ticks": "",
            "zerolinecolor": "white"
           },
           "yaxis": {
            "backgroundcolor": "#E5ECF6",
            "gridcolor": "white",
            "gridwidth": 2,
            "linecolor": "white",
            "showbackground": true,
            "ticks": "",
            "zerolinecolor": "white"
           },
           "zaxis": {
            "backgroundcolor": "#E5ECF6",
            "gridcolor": "white",
            "gridwidth": 2,
            "linecolor": "white",
            "showbackground": true,
            "ticks": "",
            "zerolinecolor": "white"
           }
          },
          "shapedefaults": {
           "line": {
            "color": "#2a3f5f"
           }
          },
          "ternary": {
           "aaxis": {
            "gridcolor": "white",
            "linecolor": "white",
            "ticks": ""
           },
           "baxis": {
            "gridcolor": "white",
            "linecolor": "white",
            "ticks": ""
           },
           "bgcolor": "#E5ECF6",
           "caxis": {
            "gridcolor": "white",
            "linecolor": "white",
            "ticks": ""
           }
          },
          "title": {
           "x": 0.05
          },
          "xaxis": {
           "automargin": true,
           "gridcolor": "white",
           "linecolor": "white",
           "ticks": "",
           "title": {
            "standoff": 15
           },
           "zerolinecolor": "white",
           "zerolinewidth": 2
          },
          "yaxis": {
           "automargin": true,
           "gridcolor": "white",
           "linecolor": "white",
           "ticks": "",
           "title": {
            "standoff": 15
           },
           "zerolinecolor": "white",
           "zerolinewidth": 2
          }
         }
        },
        "title": {
         "text": "Percent Correlation of Key Airbnb Metrics to Determine if a Host is a Super Host for 2,677 Listed Hosts in the Seattle Area<br>699 were Super Hosts and 1,978 were not Super Hosts <br>Data Timeframe between 2016-01-04 and 2017-01-02"
        },
        "xaxis": {
         "title": {
          "text": "Correlation Value (1 or -1 being highly correlated)"
         }
        },
        "yaxis": {
         "title": {
          "text": "Host Metrics from Airbnb"
         }
        }
       }
      }
     },
     "metadata": {},
     "output_type": "display_data"
    }
   ],
   "source": [
    "fig_corr = go.Figure(go.Bar(\n",
    "            x=linreg_model.coef_,\n",
    "            y=normalized_df.iloc[:,1:].columns.tolist(),\n",
    "            orientation='h',\n",
    "            textposition= \"inside\",\n",
    "            texttemplate = \"%{x:.02}\"\n",
    ")\n",
    ")\n",
    "fig_corr.update_layout(\n",
    "                    title = (\"Percent Correlation of Key Airbnb Metrics to Determine if a Host is a Super Host for {:,} Listed Hosts in the Seattle Area<br>{:,} were Super Hosts and {:,} were not Super Hosts <br>Data Timeframe between {} and {}\".format(\n",
    "                        df_super_clean.shape[0],\n",
    "                        df_super_clean['host_is_superhost'][df_super_clean['host_is_superhost'] == True].count(),\n",
    "                        df_super_clean['host_is_superhost'][df_super_clean['host_is_superhost'] == False].count(),\n",
    "                        min(df_cal['date']),\n",
    "                        max(df_cal['date'])\n",
    "                        )\n",
    "                        ),\n",
    "                    xaxis_title=\"Correlation Value (1 or -1 being highly correlated)\",\n",
    "                    yaxis_title=\"Host Metrics from Airbnb\",\n",
    "                    # yaxis2_title=\"Median Price of Apartments\",\n",
    "                    legend=dict(\n",
    "                        yanchor=\"top\",\n",
    "                        y=0.99,\n",
    "                        xanchor=\"right\",\n",
    "                        x=0.99\n",
    "                        )\n",
    "                    )\n",
    "\n",
    "fig_corr.show()"
   ]
  },
  {
   "cell_type": "code",
   "execution_count": 83,
   "metadata": {},
   "outputs": [
    {
     "data": {
      "text/plain": [
       "True     2674\n",
       "False       3\n",
       "Name: host_has_profile_pic, dtype: int64"
      ]
     },
     "execution_count": 83,
     "metadata": {},
     "output_type": "execute_result"
    }
   ],
   "source": [
    "df_super_clean['host_has_profile_pic'].value_counts()"
   ]
  }
 ],
 "metadata": {
  "kernelspec": {
   "display_name": "Python 3.8.13 ('py38_jupyter')",
   "language": "python",
   "name": "python3"
  },
  "language_info": {
   "codemirror_mode": {
    "name": "ipython",
    "version": 3
   },
   "file_extension": ".py",
   "mimetype": "text/x-python",
   "name": "python",
   "nbconvert_exporter": "python",
   "pygments_lexer": "ipython3",
   "version": "3.8.13"
  },
  "orig_nbformat": 4,
  "vscode": {
   "interpreter": {
    "hash": "e0a4f98baa1e3d795eec488748c9981088104a730f99442919bddc9c1379fb51"
   }
  }
 },
 "nbformat": 4,
 "nbformat_minor": 2
}
